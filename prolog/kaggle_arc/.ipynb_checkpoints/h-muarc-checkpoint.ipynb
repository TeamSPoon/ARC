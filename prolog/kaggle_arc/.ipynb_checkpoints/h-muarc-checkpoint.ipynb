{
 "cells": [
  {
   "cell_type": "code",
   "execution_count": 2,
   "id": "76a823a2-8bbc-4d61-a86c-d07a8fc3631c",
   "metadata": {},
   "outputs": [
    {
     "name": "stdout",
     "output_type": "stream",
     "text": [
      "\u001b[33mWARNING: Ignoring invalid distribution - (/usr/local/lib/python3.10/site-packages)\u001b[0m\u001b[33m\n",
      "\u001b[0m\u001b[33mWARNING: Ignoring invalid distribution -utterfly (/usr/local/lib/python3.10/site-packages)\u001b[0m\u001b[33m\n",
      "\u001b[0m\u001b[33mWARNING: Ignoring invalid distribution -tterfly (/usr/local/lib/python3.10/site-packages)\u001b[0m\u001b[33m\n",
      "\u001b[0mRequirement already satisfied: numpy in /usr/local/lib/python3.10/site-packages (1.22.3)\n",
      "Requirement already satisfied: pandas in /usr/local/lib/python3.10/site-packages (1.4.2)\n",
      "Requirement already satisfied: seaborn in /usr/local/lib/python3.10/site-packages (0.12.2)\n",
      "Requirement already satisfied: python-dateutil>=2.8.1 in /usr/local/lib/python3.10/site-packages (from pandas) (2.8.2)\n",
      "Requirement already satisfied: pytz>=2020.1 in /usr/local/lib/python3.10/site-packages (from pandas) (2022.1)\n",
      "Requirement already satisfied: matplotlib!=3.6.1,>=3.1 in /usr/local/lib/python3.10/site-packages (from seaborn) (3.5.1)\n",
      "Requirement already satisfied: cycler>=0.10 in /usr/local/lib/python3.10/site-packages (from matplotlib!=3.6.1,>=3.1->seaborn) (0.11.0)\n",
      "Requirement already satisfied: fonttools>=4.22.0 in /usr/local/lib/python3.10/site-packages (from matplotlib!=3.6.1,>=3.1->seaborn) (4.33.3)\n",
      "Requirement already satisfied: kiwisolver>=1.0.1 in /usr/local/lib/python3.10/site-packages (from matplotlib!=3.6.1,>=3.1->seaborn) (1.4.3)\n",
      "Requirement already satisfied: packaging>=20.0 in /usr/local/lib/python3.10/site-packages (from matplotlib!=3.6.1,>=3.1->seaborn) (21.3)\n",
      "Requirement already satisfied: pillow>=6.2.0 in /usr/local/lib/python3.10/site-packages (from matplotlib!=3.6.1,>=3.1->seaborn) (9.1.1)\n",
      "Requirement already satisfied: pyparsing>=2.2.1 in /usr/local/lib/python3.10/site-packages (from matplotlib!=3.6.1,>=3.1->seaborn) (3.0.9)\n",
      "Requirement already satisfied: six>=1.5 in /usr/local/lib/python3.10/site-packages (from python-dateutil>=2.8.1->pandas) (1.16.0)\n",
      "\u001b[33mWARNING: Ignoring invalid distribution - (/usr/local/lib/python3.10/site-packages)\u001b[0m\u001b[33m\n",
      "\u001b[0m\u001b[33mWARNING: Ignoring invalid distribution -utterfly (/usr/local/lib/python3.10/site-packages)\u001b[0m\u001b[33m\n",
      "\u001b[0m\u001b[33mWARNING: Ignoring invalid distribution -tterfly (/usr/local/lib/python3.10/site-packages)\u001b[0m\u001b[33m\n",
      "\u001b[0m\u001b[33mWARNING: Running pip as the 'root' user can result in broken permissions and conflicting behaviour with the system package manager. It is recommended to use a virtual environment instead: https://pip.pypa.io/warnings/venv\u001b[0m\u001b[33m\n",
      "\u001b[0m\u001b[33mWARNING: Ignoring invalid distribution - (/usr/local/lib/python3.10/site-packages)\u001b[0m\u001b[33m\n",
      "\u001b[0m\u001b[33mWARNING: Ignoring invalid distribution -utterfly (/usr/local/lib/python3.10/site-packages)\u001b[0m\u001b[33m\n",
      "\u001b[0m\u001b[33mWARNING: Ignoring invalid distribution -tterfly (/usr/local/lib/python3.10/site-packages)\u001b[0m\u001b[33m\n",
      "\u001b[0mCollecting pyswip\n",
      "  Cloning https://github.com/yuce/pyswip (to revision master) to /tmp/pip-install-cvfga4xp/pyswip_d5de263917b64281b1dfbc2f5f8d8cbb\n",
      "  Running command git clone --filter=blob:none --quiet https://github.com/yuce/pyswip /tmp/pip-install-cvfga4xp/pyswip_d5de263917b64281b1dfbc2f5f8d8cbb\n",
      "  Resolved https://github.com/yuce/pyswip to commit 59016e0841f56177d1b18ec08fd9b67792bd0a97\n",
      "  Preparing metadata (setup.py) ... \u001b[?25ldone\n",
      "\u001b[33mWARNING: Ignoring invalid distribution - (/usr/local/lib/python3.10/site-packages)\u001b[0m\u001b[33m\n",
      "\u001b[0m\u001b[33mWARNING: Ignoring invalid distribution -utterfly (/usr/local/lib/python3.10/site-packages)\u001b[0m\u001b[33m\n",
      "\u001b[0m\u001b[33mWARNING: Ignoring invalid distribution -tterfly (/usr/local/lib/python3.10/site-packages)\u001b[0m\u001b[33m\n",
      "\u001b[0m\u001b[33mWARNING: Running pip as the 'root' user can result in broken permissions and conflicting behaviour with the system package manager. It is recommended to use a virtual environment instead: https://pip.pypa.io/warnings/venv\u001b[0m\u001b[33m\n",
      "\u001b[0m\u001b[?25h"
     ]
    }
   ],
   "source": [
    "import sys\n",
    "!{sys.executable} -m pip install numpy pandas seaborn\n",
    "!{sys.executable} -m pip install git+https://github.com/yuce/pyswip@master#egg=pyswip\n",
    "\n",
    "import json\n",
    "import matplotlib.pyplot as plt\n",
    "from matplotlib import colors\n",
    "from matplotlib.colors import ListedColormap, Normalize\n",
    "import matplotlib.colors\n",
    "import numpy as np\n",
    "import os\n",
    "import copy\n",
    "from pathlib import Path\n",
    "\n",
    "%matplotlib inline\n",
    "import seaborn as sns\n",
    "\n",
    "import numpy as np\n",
    "import pandas as pd\n",
    "\n",
    "\n",
    "def get_data(is_train):\n",
    "    path = '../shared/data/' + ('training' if is_train else 'evaluation')\n",
    "    data = {}\n",
    "    for filename in os.listdir(path):\n",
    "        with open(os.path.join(path, filename)) as f:\n",
    "            data[filename.rstrip('.json')] = json.load(f)\n",
    "    return {\n",
    "        'train': {k: [{\n",
    "            'input': tuple(tuple(r) for r in e['input']),\n",
    "            'output': tuple(tuple(r) for r in e['output']),\n",
    "        } for e in v['train']] for k, v in data.items()},\n",
    "        'test': {k: [{\n",
    "            'input': tuple(tuple(r) for r in e['input']),\n",
    "            'output': tuple(tuple(r) for r in e['output']),\n",
    "        } for e in v['test']] for k, v in data.items()}\n",
    "    }\n",
    "\n",
    "\n",
    "def plot_task(task, solver=None):\n",
    "    cols = [\n",
    "        '#000', '#0074D9', '#FF4136', '#2ECC40', '#FFDC00',\n",
    "        '#AAAAAA', '#F012BE', '#FF851B', '#7FDBFF', '#870C25'\n",
    "    ]\n",
    "    args = {'cmap': ListedColormap(cols), 'norm': Normalize(vmin=0, vmax=9)}\n",
    "    n = len(task)\n",
    "    m = 2 if solver is None else 3\n",
    "    fig, ax = plt.subplots(m, n, figsize=(n * 4, m * 4))\n",
    "    ofs = 0 if solver is None else 1\n",
    "    if n == 1:\n",
    "        ax[0].imshow(task[0]['input'], **args)\n",
    "        ax[1 + ofs].imshow(task[0]['output'], **args)\n",
    "        ax[0].axis('off')\n",
    "        ax[1 + ofs].axis('off')\n",
    "        if solver is not None:\n",
    "            ax[1].imshow(solver(task[0]['input']), **args)\n",
    "            ax[1].axis('off')\n",
    "    else:\n",
    "        for i, example in enumerate(task):\n",
    "            ax[0, i].imshow(example['input'], **args)\n",
    "            ax[1 + ofs, i].imshow(example['output'], **args)\n",
    "            ax[0, i].axis('off')\n",
    "            ax[1 + ofs, i].axis('off')\n",
    "            if solver is not None:\n",
    "                ax[1, i].imshow(solver(example['input']), **args)\n",
    "                ax[1, i].axis('off')\n",
    "    fig.set_facecolor('#1E1E1E')\n",
    "    plt.subplots_adjust(wspace=0.1, hspace=0.1)\n",
    "    plt.show()\n",
    "    \n",
    "def load_json_data(folder):\n",
    "    json_files = [pos_json for pos_json in os.listdir(folder) if pos_json.endswith('.json')]\n",
    "    data = {}\n",
    "    for js in json_files:\n",
    "        with open(os.path.join(folder, js)) as json_file:\n",
    "            data[js] = json.load(json_file)\n",
    "    return data\n",
    "\n",
    "def plot_2d_grid(data):\n",
    "    cvals  = [0, 1, 2, 3, 4, 5, 6, 7, 8, 9]\n",
    "    colors = [\"black\", \"dodgerblue\", \"red\", \"lightgreen\", \"yellow\", \"grey\", \"magenta\", \"orange\", \"lightblue\", \"brown\"]\n",
    "    norm=plt.Normalize(min(cvals),max(cvals))\n",
    "    tuples = list(zip(map(norm,cvals), colors))\n",
    "    cmap = matplotlib.colors.LinearSegmentedColormap.from_list(\"\", tuples)\n",
    "\n",
    "    fig, axs = plt.subplots(1, 3, figsize=(5, len(data['test']) * 3))\n",
    "    print(axs.shape)\n",
    "    axs[0].set_title('Test Input')\n",
    "    axs[0].set_xticks([]); axs[0].set_yticks([])\n",
    "    axs[0].imshow(np.array(data['test'][0]['input']), cmap=cmap, vmin=0, vmax=9)\n",
    "    axs[1].set_title('Test Output')\n",
    "    axs[1].set_xticks([]); axs[1].set_yticks([])\n",
    "    axs[1].imshow(np.array(data['test'][0]['output']), cmap=cmap, vmin=0, vmax=9)\n",
    "    # plot gpt output if present\n",
    "    if data['gpt_output'] is not None:\n",
    "        axs[2].set_title('GPT Output')\n",
    "        axs[2].set_xticks([]); axs[2].set_yticks([])\n",
    "        axs[2].imshow(np.array(data['gpt_output']), cmap=cmap, vmin=0, vmax=9) \n",
    "    else:\n",
    "        axs[2].axis('off')\n",
    "\n",
    "    fig, axs = plt.subplots(len(data['train']), 2, figsize=(5, len(data['train']) * 3))\n",
    "    for i, example in enumerate(data['train']):\n",
    "        axs[i, 0].set_title(f'Training Input {i}')\n",
    "        axs[i, 0].set_xticks([]); axs[i, 0].set_yticks([])\n",
    "        axs[i, 0].imshow(np.array(example['input']), cmap=cmap, vmin=0, vmax=9)\n",
    "        axs[i, 1].set_title(f'Training Output {i}')\n",
    "        axs[i, 1].set_xticks([]); axs[i, 1].set_yticks([])\n",
    "        axs[i, 1].imshow(np.array(example['output']), cmap=cmap, vmin=0, vmax=9)\n",
    "    plt.tight_layout()\n",
    "    plt.show()\n"
   ]
  },
  {
   "cell_type": "code",
   "execution_count": 4,
   "id": "264d3bfd-bda7-4b07-8dc1-82ce91119239",
   "metadata": {},
   "outputs": [
    {
     "name": "stdout",
     "output_type": "stream",
     "text": [
      "michael is the father of john\n",
      "michael is the father of gina\n",
      "michael is the father of john\n",
      "michael is the father of gina\n"
     ]
    },
    {
     "ename": "TypeError",
     "evalue": "list indices must be integers or slices, not str",
     "output_type": "error",
     "traceback": [
      "\u001b[0;31m---------------------------------------------------------------------------\u001b[0m",
      "\u001b[0;31mTypeError\u001b[0m                                 Traceback (most recent call last)",
      "Input \u001b[0;32mIn [4]\u001b[0m, in \u001b[0;36m<cell line: 10>\u001b[0;34m()\u001b[0m\n\u001b[1;32m      7\u001b[0m     \u001b[38;5;28mprint\u001b[39m(soln[\u001b[38;5;124m\"\u001b[39m\u001b[38;5;124mX\u001b[39m\u001b[38;5;124m\"\u001b[39m], \u001b[38;5;124m\"\u001b[39m\u001b[38;5;124mis the father of\u001b[39m\u001b[38;5;124m\"\u001b[39m, soln[\u001b[38;5;124m\"\u001b[39m\u001b[38;5;124mY\u001b[39m\u001b[38;5;124m\"\u001b[39m])\n\u001b[1;32m      8\u001b[0m \u001b[38;5;66;03m# michael is the father of john\u001b[39;00m\n\u001b[1;32m      9\u001b[0m \u001b[38;5;66;03m# michael is the father of gina\u001b[39;00m\n\u001b[0;32m---> 10\u001b[0m \u001b[43mplot_task\u001b[49m\u001b[43m(\u001b[49m\u001b[43m[\u001b[49m\u001b[43m[\u001b[49m\u001b[38;5;241;43m1\u001b[39;49m\u001b[43m,\u001b[49m\u001b[38;5;241;43m2\u001b[39;49m\u001b[43m,\u001b[49m\u001b[38;5;241;43m3\u001b[39;49m\u001b[43m]\u001b[49m\u001b[43m,\u001b[49m\u001b[43m[\u001b[49m\u001b[38;5;241;43m1\u001b[39;49m\u001b[43m,\u001b[49m\u001b[38;5;241;43m2\u001b[39;49m\u001b[43m,\u001b[49m\u001b[38;5;241;43m3\u001b[39;49m\u001b[43m]\u001b[49m\u001b[43m,\u001b[49m\u001b[43m[\u001b[49m\u001b[38;5;241;43m1\u001b[39;49m\u001b[43m,\u001b[49m\u001b[38;5;241;43m2\u001b[39;49m\u001b[43m,\u001b[49m\u001b[38;5;241;43m3\u001b[39;49m\u001b[43m]\u001b[49m\u001b[43m]\u001b[49m\u001b[43m)\u001b[49m\n",
      "Input \u001b[0;32mIn [2]\u001b[0m, in \u001b[0;36mplot_task\u001b[0;34m(task, solver)\u001b[0m\n\u001b[1;32m     58\u001b[0m \u001b[38;5;28;01melse\u001b[39;00m:\n\u001b[1;32m     59\u001b[0m     \u001b[38;5;28;01mfor\u001b[39;00m i, example \u001b[38;5;129;01min\u001b[39;00m \u001b[38;5;28menumerate\u001b[39m(task):\n\u001b[0;32m---> 60\u001b[0m         ax[\u001b[38;5;241m0\u001b[39m, i]\u001b[38;5;241m.\u001b[39mimshow(\u001b[43mexample\u001b[49m\u001b[43m[\u001b[49m\u001b[38;5;124;43m'\u001b[39;49m\u001b[38;5;124;43minput\u001b[39;49m\u001b[38;5;124;43m'\u001b[39;49m\u001b[43m]\u001b[49m, \u001b[38;5;241m*\u001b[39m\u001b[38;5;241m*\u001b[39margs)\n\u001b[1;32m     61\u001b[0m         ax[\u001b[38;5;241m1\u001b[39m \u001b[38;5;241m+\u001b[39m ofs, i]\u001b[38;5;241m.\u001b[39mimshow(example[\u001b[38;5;124m'\u001b[39m\u001b[38;5;124moutput\u001b[39m\u001b[38;5;124m'\u001b[39m], \u001b[38;5;241m*\u001b[39m\u001b[38;5;241m*\u001b[39margs)\n\u001b[1;32m     62\u001b[0m         ax[\u001b[38;5;241m0\u001b[39m, i]\u001b[38;5;241m.\u001b[39maxis(\u001b[38;5;124m'\u001b[39m\u001b[38;5;124moff\u001b[39m\u001b[38;5;124m'\u001b[39m)\n",
      "\u001b[0;31mTypeError\u001b[0m: list indices must be integers or slices, not str"
     ]
    },
    {
     "data": {
      "image/png": "[encoded data removed]",
      "text/plain": [
       "<Figure size 864x576 with 6 Axes>"
      ]
     },
     "metadata": {
      "needs_background": "light"
     },
     "output_type": "display_data"
    }
   ],
   "source": [
    "from pyswip import Prolog\n",
    "prolog = Prolog()\n",
    "prolog.assertz(\"father(michael,john)\")\n",
    "prolog.assertz(\"father(michael,gina)\")\n",
    "list(prolog.query(\"father(michael,X)\")) == [{'X': 'john'}, {'X': 'gina'}]\n",
    "for soln in prolog.query(\"father(X,Y)\"):\n",
    "    print(soln[\"X\"], \"is the father of\", soln[\"Y\"])\n",
    "# michael is the father of john\n",
    "# michael is the father of gina"
   ]
  },
  {
   "cell_type": "code",
   "execution_count": 6,
   "id": "6a6d410a-6afe-46fd-b201-c2e7163c6c9e",
   "metadata": {},
   "outputs": [
    {
     "name": "stderr",
     "output_type": "stream",
     "text": [
      "% 1D_testset/         solution/           test_nar_10x10/     Untitled3.ipynb\n",
      "% chat/               stats.db            training/           Untitled.ipynb\n",
      "% devaluation/        storage/            Untitled1.ipynb     \n",
      "% results.txt         test_100/           Untitled2.ipynb     \n"
     ]
    }
   ],
   "source": [
    "for soln in prolog.query(\"ls\"): 0\n"
   ]
  },
  {
   "cell_type": "code",
   "execution_count": 8,
   "id": "e25be42e-b443-4186-850d-b68dbbfcbd18",
   "metadata": {},
   "outputs": [],
   "source": [
    "# import tutorial_code"
   ]
  },
  {
   "cell_type": "code",
   "execution_count": null,
   "id": "7a9277a1-8102-4ed0-931d-db253bb4b0cb",
   "metadata": {},
   "outputs": [],
   "source": []
  }
 ],
 "metadata": {
  "kernelspec": {
   "display_name": "Python 3 (ipykernel)",
   "language": "python",
   "name": "python3"
  },
  "language_info": {
   "codemirror_mode": {
    "name": "ipython",
    "version": 3
   },
   "file_extension": ".py",
   "mimetype": "text/x-python",
   "name": "python",
   "nbconvert_exporter": "python",
   "pygments_lexer": "ipython3",
   "version": "3.10.5"
  }
 },
 "nbformat": 4,
 "nbformat_minor": 5
}
